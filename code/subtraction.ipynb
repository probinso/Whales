{
 "cells": [
  {
   "cell_type": "code",
   "execution_count": null,
   "metadata": {},
   "outputs": [],
   "source": [
    "import aco\n",
    "from datetime import datetime, timedelta\n",
    "import IPython\n",
    "from matplotlib import pyplot as plt\n",
    "\n",
    "import numpy as np\n",
    "import scipy.signal as signal\n",
    "\n",
    "\n",
    "%matplotlib inline \n",
    "# notebook\n",
    "\n",
    "loader = aco.ACOio('../raw/')\n",
    "parms = dict(frame_duration=.08, frame_shift=.001)\n",
    "\n",
    "date = datetime(day=19, month=2, year=2016, hour=7, minute=30)\n",
    "src = loader.load(date)\n",
    "src.Listen()"
   ]
  },
  {
   "cell_type": "code",
   "execution_count": null,
   "metadata": {},
   "outputs": [],
   "source": [
    "snap = src[\n",
    "    timedelta(minutes=2, seconds=40):\n",
    "    timedelta(minutes=2, seconds=45)]"
   ]
  }
 ],
 "metadata": {
  "kernelspec": {
   "display_name": "Python 3",
   "language": "python",
   "name": "python3"
  },
  "language_info": {
   "codemirror_mode": {
    "name": "ipython",
    "version": 3
   },
   "file_extension": ".py",
   "mimetype": "text/x-python",
   "name": "python",
   "nbconvert_exporter": "python",
   "pygments_lexer": "ipython3",
   "version": "3.6.5"
  }
 },
 "nbformat": 4,
 "nbformat_minor": 2
}
